{
 "cells": [
  {
   "cell_type": "code",
   "execution_count": 1,
   "metadata": {},
   "outputs": [],
   "source": [
    "import category_encoders as ce\n",
    "from joblib import dump, load\n",
    "import numpy as np\n",
    "import pandas as pd\n",
    "from sklearn.pipeline import make_pipeline\n",
    "from xgboost import XGBRegressor\n",
    "\n",
    "history = pd.read_csv('LoanStats_securev1_2019Q1.csv.zip', engine='python', skiprows=1, skipfooter=2)\n",
    "\n",
    "condition = (history.grade.isin(['A','B','C','D'])) & (history.term==' 36 months')\n",
    "history = history[condition]\n",
    "\n",
    "history['Interest Rate'] = history['int_rate'].str.strip('%').astype(float)\n",
    "\n",
    "history = history.rename(columns=                     \n",
    "    {'annual_inc': 'Annual Income', \n",
    "     'fico_range_high': 'Credit Score', \n",
    "     'funded_amnt': 'Loan Amount', \n",
    "     'title': 'Loan Purpose'})\n",
    "\n",
    "history['Monthly Debts'] = history['Annual Income'] / 12 * history['dti'] / 100\n",
    "\n",
    "columns = ['Annual Income', \n",
    "           'Credit Score', \n",
    "           'Loan Amount', \n",
    "           'Loan Purpose', \n",
    "           'Monthly Debts', \n",
    "           'Interest Rate']\n",
    "\n",
    "history = history[columns]\n",
    "history = history.dropna()\n",
    "\n",
    "X = history.drop(columns='Interest Rate')\n",
    "y = history['Interest Rate']\n",
    "y_log = np.log1p(y)\n",
    "\n",
    "pipeline = make_pipeline(\n",
    "    ce.OneHotEncoder(use_cat_names=True), \n",
    "    XGBRegressor(n_estimators=200, n_jobs=-1)\n",
    ")\n",
    "\n",
    "pipeline.fit(X, y_log)\n",
    "dump(pipeline, 'pipeline.joblib')\n",
    "\n",
    "history['Annual Income'] = history['Annual Income'].astype(int)\n",
    "history['Monthly Debts'] = history['Monthly Debts'].round(2)\n",
    "history.to_csv('lending-club.csv', index=False)"
   ]
  }
 ],
 "metadata": {
  "kernelspec": {
   "display_name": "Python 3",
   "language": "python",
   "name": "python3"
  },
  "language_info": {
   "codemirror_mode": {
    "name": "ipython",
    "version": 3
   },
   "file_extension": ".py",
   "mimetype": "text/x-python",
   "name": "python",
   "nbconvert_exporter": "python",
   "pygments_lexer": "ipython3",
   "version": "3.7.1"
  }
 },
 "nbformat": 4,
 "nbformat_minor": 2
}
